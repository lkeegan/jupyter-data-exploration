{
 "cells": [
  {
   "cell_type": "markdown",
   "id": "1e4bbd6c",
   "metadata": {
    "slideshow": {
     "slide_type": "slide"
    }
   },
   "source": [
    "# Data Exploration with Python and Jupyter\n",
    "\n",
    "Basic usage of the Pandas library to download a dataset,\n",
    "explore its contents, clean up missing or invalid data,\n",
    "filter the data according to different criteria,\n",
    "and plot visualizations of the data.\n",
    "\n",
    "- [Part 1: Python and Jupyter](https://ssciwr.github.io/jupyter-data-exploration)\n",
    "- **Part 2: Pandas with toy data**\n",
    "- [Part 3: Pandas with real data](https://ssciwr.github.io/jupyter-data-exploration/pandas-real-data.slides.html)\n",
    "\n",
    "*Press Spacebar or the right arrow key to go to the next slide*"
   ]
  },
  {
   "cell_type": "markdown",
   "id": "90fd5319",
   "metadata": {
    "slideshow": {
     "slide_type": "slide"
    }
   },
   "source": [
    "# Pandas\n",
    "is a data analysis and manipulation Python library"
   ]
  },
  {
   "cell_type": "code",
   "execution_count": null,
   "id": "2649ea67",
   "metadata": {
    "slideshow": {
     "slide_type": "fragment"
    }
   },
   "outputs": [],
   "source": [
    "# Import the Pandas library\n",
    "import pandas as pd"
   ]
  },
  {
   "cell_type": "code",
   "execution_count": null,
   "id": "b6f8efb5",
   "metadata": {
    "slideshow": {
     "slide_type": "fragment"
    }
   },
   "outputs": [],
   "source": [
    "# Import the toy data as a pandas DataFrame\n",
    "# df = pd.read_csv(\"https://ssciwr.github.io/jupyter-data-exploration/data.csv\")"
   ]
  },
  {
   "cell_type": "code",
   "execution_count": null,
   "id": "68214673",
   "metadata": {
    "slideshow": {
     "slide_type": "slide"
    }
   },
   "outputs": [],
   "source": []
  },
  {
   "cell_type": "markdown",
   "id": "2738d229",
   "metadata": {},
   "source": [
    "# Next\n",
    "\n",
    "- [Part 3: Pandas with real data](https://ssciwr.github.io/jupyter-data-exploration/pandas-real-data.slides.html)"
   ]
  }
 ],
 "metadata": {
  "celltoolbar": "Slideshow",
  "kernelspec": {
   "display_name": "Python 3 (ipykernel)",
   "language": "python",
   "name": "python3"
  },
  "language_info": {
   "codemirror_mode": {
    "name": "ipython",
    "version": 3
   },
   "file_extension": ".py",
   "mimetype": "text/x-python",
   "name": "python",
   "nbconvert_exporter": "python",
   "pygments_lexer": "ipython3",
   "version": "3.9.7"
  }
 },
 "nbformat": 4,
 "nbformat_minor": 5
}
