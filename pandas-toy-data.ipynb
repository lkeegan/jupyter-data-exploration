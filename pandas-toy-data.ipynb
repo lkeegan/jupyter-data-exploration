{
 "cells": [
  {
   "cell_type": "markdown",
   "id": "1e4bbd6c",
   "metadata": {
    "slideshow": {
     "slide_type": "slide"
    }
   },
   "source": [
    "# Data Exploration with Python and Jupyter\n",
    "\n",
    "Basic usage of the Pandas library to download a dataset,\n",
    "explore its contents, clean up missing or invalid data,\n",
    "filter the data according to different criteria,\n",
    "and plot visualizations of the data.\n",
    "\n",
    "- [Part 1: Python and Jupyter](https://ssciwr.github.io/jupyter-data-exploration)\n",
    "- **Part 2: Pandas with toy data**\n",
    "- [Part 3: Pandas with real data](https://ssciwr.github.io/jupyter-data-exploration/pandas-real-data.slides.html)\n",
    "\n",
    "*Press Spacebar or the right arrow key to go to the next slide*"
   ]
  },
  {
   "cell_type": "markdown",
   "id": "90fd5319",
   "metadata": {
    "slideshow": {
     "slide_type": "slide"
    }
   },
   "source": [
    "# Pandas\n",
    "is a data analysis and manipulation Python library"
   ]
  },
  {
   "cell_type": "code",
   "execution_count": null,
   "id": "2649ea67",
   "metadata": {
    "slideshow": {
     "slide_type": "fragment"
    }
   },
   "outputs": [],
   "source": [
    "# Import the Pandas library\n",
    "import pandas as pd"
   ]
  },
  {
   "cell_type": "code",
   "execution_count": null,
   "id": "b6f8efb5",
   "metadata": {
    "slideshow": {
     "slide_type": "fragment"
    }
   },
   "outputs": [],
   "source": [
    "# Import some toy data as a pandas DataFrame\n",
    "df = pd.read_csv(\"https://ssciwr.github.io/jupyter-data-exploration/data.csv\")"
   ]
  },
  {
   "cell_type": "code",
   "execution_count": null,
   "id": "d99d4157",
   "metadata": {
    "slideshow": {
     "slide_type": "fragment"
    }
   },
   "outputs": [],
   "source": [
    "type(df)"
   ]
  },
  {
   "cell_type": "code",
   "execution_count": null,
   "id": "380ece99",
   "metadata": {
    "slideshow": {
     "slide_type": "fragment"
    }
   },
   "outputs": [],
   "source": [
    "len(df)"
   ]
  },
  {
   "cell_type": "code",
   "execution_count": null,
   "id": "45a15d7f",
   "metadata": {
    "slideshow": {
     "slide_type": "subslide"
    }
   },
   "outputs": [],
   "source": [
    "# Display the first few rows of data\n",
    "df.head()"
   ]
  },
  {
   "cell_type": "code",
   "execution_count": null,
   "id": "63a4641d",
   "metadata": {
    "slideshow": {
     "slide_type": "fragment"
    }
   },
   "outputs": [],
   "source": [
    "# List the columns\n",
    "df.columns"
   ]
  },
  {
   "cell_type": "markdown",
   "id": "6f7349f3",
   "metadata": {
    "slideshow": {
     "slide_type": "slide"
    }
   },
   "source": [
    "# Selecting rows and columns\n",
    "\n",
    "Three main ways of doing this:\n",
    "\n",
    "- Python-style indexing operator `[]`\n",
    "- Pandas `loc` function (label-based)\n",
    "- Pandas `iloc` function (index-based)\n",
    "\n",
    "We'll start with the more intuitive Python-style methods, and later move into the more powerful `loc` and `iloc` alternatives"
   ]
  },
  {
   "cell_type": "code",
   "execution_count": null,
   "id": "495e985d",
   "metadata": {
    "slideshow": {
     "slide_type": "subslide"
    }
   },
   "outputs": [],
   "source": [
    "# A DataFrame is a bit like a Dictionary - we can lookup columns by name\n",
    "names = df[\"Name\"]"
   ]
  },
  {
   "cell_type": "code",
   "execution_count": null,
   "id": "e8655868",
   "metadata": {
    "slideshow": {
     "slide_type": "fragment"
    }
   },
   "outputs": [],
   "source": [
    "# A column of a DataFrame is a Series\n",
    "type(names)"
   ]
  },
  {
   "cell_type": "code",
   "execution_count": null,
   "id": "3d837d80",
   "metadata": {
    "slideshow": {
     "slide_type": "fragment"
    }
   },
   "outputs": [],
   "source": [
    "names.head()"
   ]
  },
  {
   "cell_type": "code",
   "execution_count": null,
   "id": "c4cd083f",
   "metadata": {
    "slideshow": {
     "slide_type": "subslide"
    }
   },
   "outputs": [],
   "source": [
    "# A Series is a bit like a List - we can select items by index\n",
    "names[0]"
   ]
  },
  {
   "cell_type": "code",
   "execution_count": null,
   "id": "0533906e",
   "metadata": {
    "slideshow": {
     "slide_type": "fragment"
    }
   },
   "outputs": [],
   "source": [
    "# Here are the first three items:\n",
    "names[0:3]"
   ]
  },
  {
   "cell_type": "code",
   "execution_count": null,
   "id": "484e8be0",
   "metadata": {
    "slideshow": {
     "slide_type": "fragment"
    }
   },
   "outputs": [],
   "source": [
    "# Can also iterate over items\n",
    "for name in names:\n",
    "    print(name, \"\", end=\"\")"
   ]
  },
  {
   "cell_type": "markdown",
   "id": "28e93e86",
   "metadata": {
    "slideshow": {
     "slide_type": "slide"
    }
   },
   "source": [
    "# iloc\n",
    "- select data based on its location\n",
    "- first specify row(s), then column(s)\n",
    "- treating dataset as a matrix, or a list of lists"
   ]
  },
  {
   "cell_type": "code",
   "execution_count": null,
   "id": "d0f78085",
   "metadata": {
    "slideshow": {
     "slide_type": "subslide"
    }
   },
   "outputs": [],
   "source": [
    "# First row of data (column is implicitly \"all\" if not specified)\n",
    "df.iloc[0]"
   ]
  },
  {
   "cell_type": "code",
   "execution_count": null,
   "id": "7cfa64af",
   "metadata": {
    "slideshow": {
     "slide_type": "fragment"
    }
   },
   "outputs": [],
   "source": [
    "# First row of data (using : slice operator to select all columns)\n",
    "df.iloc[0, :]"
   ]
  },
  {
   "cell_type": "code",
   "execution_count": null,
   "id": "05b2c321",
   "metadata": {
    "slideshow": {
     "slide_type": "subslide"
    }
   },
   "outputs": [],
   "source": [
    "# First column of data\n",
    "df.iloc[:, 0].head()"
   ]
  },
  {
   "cell_type": "code",
   "execution_count": null,
   "id": "cc0b804b",
   "metadata": {
    "slideshow": {
     "slide_type": "fragment"
    }
   },
   "outputs": [],
   "source": [
    "# Can select slices of rows and columns: e.g. first 3 rows, last 2 columns\n",
    "df.iloc[0:3, -3:-1]"
   ]
  },
  {
   "cell_type": "code",
   "execution_count": null,
   "id": "69876e13",
   "metadata": {
    "slideshow": {
     "slide_type": "fragment"
    }
   },
   "outputs": [],
   "source": [
    "# Can also select a list of indices, e.g. rows 3,5,7, columns 3,5\n",
    "df.iloc[[3, 5, 7], [3, 5]]"
   ]
  },
  {
   "cell_type": "markdown",
   "id": "33056ad8",
   "metadata": {
    "slideshow": {
     "slide_type": "slide"
    }
   },
   "source": [
    "# loc\n",
    "- select data based on its index *label* and column *label*, instead of location\n",
    "- first specify row(s), then column(s)\n",
    "- often the most useful method"
   ]
  },
  {
   "cell_type": "code",
   "execution_count": null,
   "id": "a2d04274",
   "metadata": {
    "slideshow": {
     "slide_type": "subslide"
    }
   },
   "outputs": [],
   "source": [
    "# First row of data (column is implicitly \"all\" if not specified)\n",
    "df.loc[0]"
   ]
  },
  {
   "cell_type": "code",
   "execution_count": null,
   "id": "845a71d4",
   "metadata": {
    "slideshow": {
     "slide_type": "fragment"
    }
   },
   "outputs": [],
   "source": [
    "# First row of data (using : slice operator to select all columns)\n",
    "df.loc[0, :]"
   ]
  },
  {
   "cell_type": "code",
   "execution_count": null,
   "id": "974f0cb4",
   "metadata": {
    "slideshow": {
     "slide_type": "subslide"
    }
   },
   "outputs": [],
   "source": [
    "# \"Name\" column of data\n",
    "df.loc[:, \"Name\"].head()"
   ]
  },
  {
   "cell_type": "code",
   "execution_count": null,
   "id": "9d089379",
   "metadata": {
    "slideshow": {
     "slide_type": "fragment"
    }
   },
   "outputs": [],
   "source": [
    "# Can also select a list of indices, e.g. rows 3,5,7, columns \"Height\",\"Wears glasses\"\n",
    "df.loc[[3, 5, 7], [\"Height\", \"Wears glasses\"]]"
   ]
  },
  {
   "cell_type": "markdown",
   "id": "77326232",
   "metadata": {
    "slideshow": {
     "slide_type": "slide"
    }
   },
   "source": [
    "# Conditionals\n",
    "- a statement that is either true or false\n",
    "  - `a == b` : true if `a` is equal to `b`\n",
    "  - `a != b` : true if `a` is not equal to `b`\n",
    "  - `a > b` : true if `a` is greater than `b`\n",
    "  - `a >= b` : true if `a` is greater than or equal to `b`\n",
    "  - `a < b` : true if `a` is less than `b`\n",
    "  - `a <= b` : true if `a` is less than or equal to `b`\n",
    "- they can be combined\n",
    "  - `a & b` : true if a and b are both true, otherwise false\n",
    "  - `a | b` : true if a or b is true, otherwise false\n",
    "- if `a` is a pandas Series, the result is a Boolean Series\n",
    "  - with a True or False result for each row\n",
    "  - which can be used by loc to select data\n",
    "- this is very flexible and powerful"
   ]
  },
  {
   "cell_type": "code",
   "execution_count": null,
   "id": "cc6dfb43",
   "metadata": {
    "slideshow": {
     "slide_type": "subslide"
    }
   },
   "outputs": [],
   "source": [
    "# This returns a Boolean (true/false) Series for the statement Age is greater than 9:\n",
    "df[\"Age\"] > 9"
   ]
  },
  {
   "cell_type": "code",
   "execution_count": null,
   "id": "30beeb4a",
   "metadata": {
    "slideshow": {
     "slide_type": "subslide"
    }
   },
   "outputs": [],
   "source": [
    "# loc can take this as the selection, e.g. older than 9\n",
    "df.loc[df[\"Age\"] > 9]"
   ]
  },
  {
   "cell_type": "code",
   "execution_count": null,
   "id": "97ec8f59",
   "metadata": {
    "slideshow": {
     "slide_type": "subslide"
    }
   },
   "outputs": [],
   "source": [
    "# can combine conditions with & e.g. older than 9 and have blue eyes\n",
    "df.loc[(df[\"Age\"] > 9) & (df[\"Eye colour\"] == \"blue\")]"
   ]
  },
  {
   "cell_type": "code",
   "execution_count": null,
   "id": "0be8cefc",
   "metadata": {
    "slideshow": {
     "slide_type": "subslide"
    }
   },
   "outputs": [],
   "source": [
    "# can have multiple conditions with | e.g. younger than 7 or wears glasses\n",
    "df.loc[(df[\"Age\"] < 7) | (df[\"Wears glasses\"] == \"yes\")]"
   ]
  },
  {
   "cell_type": "markdown",
   "id": "dd5dae2e",
   "metadata": {
    "slideshow": {
     "slide_type": "slide"
    }
   },
   "source": [
    "# Types\n",
    "\n",
    "- Default type is `Object`, aka String\n",
    "- Pandas tries to identify types like numbers, dates and booleans\n",
    "- Can also tell Pandas what type a column should be\n",
    "- Using the correct type has multiple benefits\n",
    "  - better performance (use less RAM, faster to run)\n",
    "  - more functionality (e.g. summary / plots of numerical types)"
   ]
  },
  {
   "cell_type": "code",
   "execution_count": null,
   "id": "188c61af",
   "metadata": {
    "slideshow": {
     "slide_type": "subslide"
    }
   },
   "outputs": [],
   "source": [
    "# display type of each column\n",
    "df.dtypes"
   ]
  },
  {
   "cell_type": "code",
   "execution_count": null,
   "id": "9d698f3e",
   "metadata": {
    "slideshow": {
     "slide_type": "fragment"
    }
   },
   "outputs": [],
   "source": [
    "# display memory usage of each column\n",
    "df.memory_usage(deep=True)"
   ]
  },
  {
   "cell_type": "code",
   "execution_count": null,
   "id": "072132c1",
   "metadata": {
    "slideshow": {
     "slide_type": "fragment"
    }
   },
   "outputs": [],
   "source": [
    "# list unique values in \"Sex\" column:\n",
    "df[\"Sex\"].unique()"
   ]
  },
  {
   "cell_type": "code",
   "execution_count": null,
   "id": "c2c5b329",
   "metadata": {
    "slideshow": {
     "slide_type": "fragment"
    }
   },
   "outputs": [],
   "source": [
    "# see how much RAM is used to store this column as strings\n",
    "df[\"Sex\"].memory_usage(deep=True)"
   ]
  },
  {
   "cell_type": "code",
   "execution_count": null,
   "id": "3a341a04",
   "metadata": {
    "slideshow": {
     "slide_type": "subslide"
    }
   },
   "outputs": [],
   "source": [
    "# convert to a category type\n",
    "df[\"Sex\"] = df[\"Sex\"].astype(\"category\")"
   ]
  },
  {
   "cell_type": "code",
   "execution_count": null,
   "id": "1e1cc54d",
   "metadata": {
    "slideshow": {
     "slide_type": "fragment"
    }
   },
   "outputs": [],
   "source": [
    "# list unique values in column:\n",
    "df[\"Sex\"].unique()"
   ]
  },
  {
   "cell_type": "code",
   "execution_count": null,
   "id": "2a59e8dd",
   "metadata": {
    "slideshow": {
     "slide_type": "fragment"
    }
   },
   "outputs": [],
   "source": [
    "# check RAM usage now\n",
    "df[\"Sex\"].memory_usage(deep=True)"
   ]
  },
  {
   "cell_type": "code",
   "execution_count": null,
   "id": "1f8f6f01",
   "metadata": {
    "slideshow": {
     "slide_type": "fragment"
    }
   },
   "outputs": [],
   "source": [
    "# do the same for eye colour\n",
    "df[\"Eye colour\"] = df[\"Eye colour\"].astype(\"category\")"
   ]
  },
  {
   "cell_type": "code",
   "execution_count": null,
   "id": "0b3fd621",
   "metadata": {
    "slideshow": {
     "slide_type": "subslide"
    }
   },
   "outputs": [],
   "source": [
    "# list unique values to confirm Wears glasses is really a boolean:\n",
    "df[\"Wears glasses\"].unique()"
   ]
  },
  {
   "cell_type": "code",
   "execution_count": null,
   "id": "8c78b109",
   "metadata": {
    "slideshow": {
     "slide_type": "fragment"
    }
   },
   "outputs": [],
   "source": [
    "# see how much RAM is used to store this column as strings\n",
    "df[\"Wears glasses\"].memory_usage(deep=True)"
   ]
  },
  {
   "cell_type": "code",
   "execution_count": null,
   "id": "f42d52be",
   "metadata": {
    "slideshow": {
     "slide_type": "fragment"
    }
   },
   "outputs": [],
   "source": [
    "# convert \"yes\" to True, \"no\" to False\n",
    "df[\"Wears glasses\"] = df[\"Wears glasses\"].map({\"yes\": True, \"no\": False})"
   ]
  },
  {
   "cell_type": "code",
   "execution_count": null,
   "id": "7c91ac9a",
   "metadata": {
    "slideshow": {
     "slide_type": "fragment"
    }
   },
   "outputs": [],
   "source": [
    "# list unique values to confirm Wears glasses is really a boolean:\n",
    "df[\"Wears glasses\"].unique()"
   ]
  },
  {
   "cell_type": "code",
   "execution_count": null,
   "id": "a8078f9f",
   "metadata": {
    "slideshow": {
     "slide_type": "fragment"
    }
   },
   "outputs": [],
   "source": [
    "# see how much RAM is used to store this column as booleans\n",
    "df[\"Wears glasses\"].memory_usage(deep=True)"
   ]
  },
  {
   "cell_type": "markdown",
   "id": "16fbbda6",
   "metadata": {
    "slideshow": {
     "slide_type": "slide"
    }
   },
   "source": [
    "# Next\n",
    "\n",
    "- [Part 3: Pandas with real data](https://ssciwr.github.io/jupyter-data-exploration/pandas-real-data.slides.html)"
   ]
  }
 ],
 "metadata": {
  "celltoolbar": "Slideshow",
  "kernelspec": {
   "display_name": "Python 3 (ipykernel)",
   "language": "python",
   "name": "python3"
  },
  "language_info": {
   "codemirror_mode": {
    "name": "ipython",
    "version": 3
   },
   "file_extension": ".py",
   "mimetype": "text/x-python",
   "name": "python",
   "nbconvert_exporter": "python",
   "pygments_lexer": "ipython3",
   "version": "3.9.7"
  }
 },
 "nbformat": 4,
 "nbformat_minor": 5
}
