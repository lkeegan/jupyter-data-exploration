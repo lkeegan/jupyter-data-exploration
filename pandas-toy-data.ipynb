{
 "cells": [
  {
   "cell_type": "markdown",
   "id": "1e4bbd6c",
   "metadata": {
    "slideshow": {
     "slide_type": "slide"
    }
   },
   "source": [
    "# Data Exploration with Python and Jupyter\n",
    "\n",
    "Basic usage of the Pandas library to download a dataset,\n",
    "explore its contents, clean up missing or invalid data,\n",
    "filter the data according to different criteria,\n",
    "and plot visualizations of the data.\n",
    "\n",
    "- [Part 1: Python and Jupyter](https://ssciwr.github.io/jupyter-data-exploration)\n",
    "- **Part 2: Pandas with toy data**\n",
    "- [Part 3: Pandas with real data](https://ssciwr.github.io/jupyter-data-exploration/pandas-real-data.slides.html)\n",
    "\n",
    "*Press `Spacebar` to go to the next slide (or `?` to see all navigation shortcuts)*"
   ]
  },
  {
   "cell_type": "markdown",
   "id": "90fd5319",
   "metadata": {
    "slideshow": {
     "slide_type": "slide"
    }
   },
   "source": [
    "# Pandas\n",
    "is a data analysis and manipulation Python library"
   ]
  },
  {
   "cell_type": "code",
   "execution_count": null,
   "id": "2649ea67",
   "metadata": {
    "slideshow": {
     "slide_type": "fragment"
    }
   },
   "outputs": [],
   "source": [
    "# Import the Pandas library\n",
    "import pandas as pd"
   ]
  },
  {
   "cell_type": "code",
   "execution_count": null,
   "id": "b6f8efb5",
   "metadata": {
    "slideshow": {
     "slide_type": "fragment"
    }
   },
   "outputs": [],
   "source": [
    "# Import some toy data as a pandas DataFrame\n",
    "df = pd.read_csv(\"https://ssciwr.github.io/jupyter-data-exploration/data.csv\")"
   ]
  },
  {
   "cell_type": "code",
   "execution_count": null,
   "id": "d0414abf",
   "metadata": {
    "slideshow": {
     "slide_type": "fragment"
    }
   },
   "outputs": [],
   "source": [
    "type(df)"
   ]
  },
  {
   "cell_type": "code",
   "execution_count": null,
   "id": "d23607cc",
   "metadata": {
    "slideshow": {
     "slide_type": "fragment"
    }
   },
   "outputs": [],
   "source": [
    "len(df)"
   ]
  },
  {
   "cell_type": "code",
   "execution_count": null,
   "id": "7ad1d514",
   "metadata": {
    "slideshow": {
     "slide_type": "subslide"
    }
   },
   "outputs": [],
   "source": [
    "# Display the first few rows of data\n",
    "df.head()"
   ]
  },
  {
   "cell_type": "code",
   "execution_count": null,
   "id": "9a704370",
   "metadata": {
    "slideshow": {
     "slide_type": "fragment"
    }
   },
   "outputs": [],
   "source": [
    "# List the columns\n",
    "df.columns"
   ]
  },
  {
   "cell_type": "markdown",
   "id": "3615cedf",
   "metadata": {
    "slideshow": {
     "slide_type": "slide"
    }
   },
   "source": [
    "# Selecting rows and columns\n",
    "\n",
    "Three main ways of doing this:\n",
    "\n",
    "- Python-style indexing operator `[]`\n",
    "- Pandas `loc` function (label-based)\n",
    "- Pandas `iloc` function (index-based)\n",
    "\n",
    "We'll start with the more intuitive Python-style methods, and later move into the more powerful `loc` and `iloc` alternatives"
   ]
  },
  {
   "cell_type": "code",
   "execution_count": null,
   "id": "e1e31cc4",
   "metadata": {
    "slideshow": {
     "slide_type": "subslide"
    }
   },
   "outputs": [],
   "source": [
    "# A DataFrame is a bit like a Dictionary - we can lookup columns by name\n",
    "names = df[\"Name\"]"
   ]
  },
  {
   "cell_type": "code",
   "execution_count": null,
   "id": "98a2027c",
   "metadata": {
    "slideshow": {
     "slide_type": "fragment"
    }
   },
   "outputs": [],
   "source": [
    "# A column of a DataFrame is a Series\n",
    "type(names)"
   ]
  },
  {
   "cell_type": "code",
   "execution_count": null,
   "id": "c8f40a93",
   "metadata": {
    "slideshow": {
     "slide_type": "fragment"
    }
   },
   "outputs": [],
   "source": [
    "names.head()"
   ]
  },
  {
   "cell_type": "code",
   "execution_count": null,
   "id": "dc719632",
   "metadata": {
    "slideshow": {
     "slide_type": "subslide"
    }
   },
   "outputs": [],
   "source": [
    "# A Series is a bit like a List - we can select items by index\n",
    "names[0]"
   ]
  },
  {
   "cell_type": "code",
   "execution_count": null,
   "id": "c76a7ef7",
   "metadata": {
    "slideshow": {
     "slide_type": "fragment"
    }
   },
   "outputs": [],
   "source": [
    "# Here are the first three items:\n",
    "names[0:3]"
   ]
  },
  {
   "cell_type": "code",
   "execution_count": null,
   "id": "0305944a",
   "metadata": {
    "slideshow": {
     "slide_type": "fragment"
    }
   },
   "outputs": [],
   "source": [
    "# Can also iterate over items\n",
    "for name in names:\n",
    "    print(name, \"\", end=\"\")"
   ]
  },
  {
   "cell_type": "code",
   "execution_count": null,
   "id": "2734456d",
   "metadata": {
    "slideshow": {
     "slide_type": "subslide"
    }
   },
   "outputs": [],
   "source": [
    "# alternative syntax: dataframe.column_name\n",
    "# both of these are equivalent:\n",
    "ages1 = df[\"Age\"]\n",
    "print(ages1.head())\n",
    "\n",
    "ages2 = df.Age\n",
    "print(ages2.head())\n",
    "\n",
    "# note: this only works if the column label is a valid python object name, e.g. can't contain a space"
   ]
  },
  {
   "cell_type": "markdown",
   "id": "a50b12b1",
   "metadata": {
    "slideshow": {
     "slide_type": "slide"
    }
   },
   "source": [
    "# iloc\n",
    "- select data based on its location\n",
    "- first specify row(s), then column(s)\n",
    "- treating dataset as a matrix, or a list of lists"
   ]
  },
  {
   "cell_type": "code",
   "execution_count": null,
   "id": "6a5d3bf1",
   "metadata": {
    "slideshow": {
     "slide_type": "subslide"
    }
   },
   "outputs": [],
   "source": [
    "# First row of data (column is implicitly \"all\" if not specified)\n",
    "df.iloc[0]"
   ]
  },
  {
   "cell_type": "code",
   "execution_count": null,
   "id": "ea039301",
   "metadata": {
    "slideshow": {
     "slide_type": "fragment"
    }
   },
   "outputs": [],
   "source": [
    "# First row of data (using : slice operator to select all columns)\n",
    "df.iloc[0, :]"
   ]
  },
  {
   "cell_type": "code",
   "execution_count": null,
   "id": "0cd46a57",
   "metadata": {
    "slideshow": {
     "slide_type": "subslide"
    }
   },
   "outputs": [],
   "source": [
    "# First column of data\n",
    "df.iloc[:, 0].head()"
   ]
  },
  {
   "cell_type": "code",
   "execution_count": null,
   "id": "88e3ab8b",
   "metadata": {
    "slideshow": {
     "slide_type": "fragment"
    }
   },
   "outputs": [],
   "source": [
    "# Can select slices of rows and columns: e.g. first 3 rows, last 2 columns\n",
    "df.iloc[0:3, -3:-1]"
   ]
  },
  {
   "cell_type": "code",
   "execution_count": null,
   "id": "7a20b4f9",
   "metadata": {
    "slideshow": {
     "slide_type": "fragment"
    }
   },
   "outputs": [],
   "source": [
    "# Can also select a list of indices, e.g. rows 3,5,7, columns 3,5\n",
    "df.iloc[[3, 5, 7], [3, 5]]"
   ]
  },
  {
   "cell_type": "markdown",
   "id": "dd73b969",
   "metadata": {
    "slideshow": {
     "slide_type": "slide"
    }
   },
   "source": [
    "# loc\n",
    "- select data based on its index *label* and column *label*, instead of location\n",
    "- first specify row(s), then column(s)\n",
    "- often the most useful method"
   ]
  },
  {
   "cell_type": "code",
   "execution_count": null,
   "id": "614cce42",
   "metadata": {
    "slideshow": {
     "slide_type": "subslide"
    }
   },
   "outputs": [],
   "source": [
    "# First row of data (column is implicitly \"all\" if not specified)\n",
    "df.loc[0]"
   ]
  },
  {
   "cell_type": "code",
   "execution_count": null,
   "id": "adf79d35",
   "metadata": {
    "slideshow": {
     "slide_type": "fragment"
    }
   },
   "outputs": [],
   "source": [
    "# First row of data (using : slice operator to select all columns)\n",
    "df.loc[0, :]"
   ]
  },
  {
   "cell_type": "code",
   "execution_count": null,
   "id": "c20f5a5e",
   "metadata": {
    "slideshow": {
     "slide_type": "subslide"
    }
   },
   "outputs": [],
   "source": [
    "# \"Name\" column of data\n",
    "df.loc[:, \"Name\"].head()"
   ]
  },
  {
   "cell_type": "code",
   "execution_count": null,
   "id": "629af019",
   "metadata": {
    "slideshow": {
     "slide_type": "fragment"
    }
   },
   "outputs": [],
   "source": [
    "# Can also select a list of indices, e.g. rows 3,5,7, columns \"Height\",\"Wears glasses\"\n",
    "df.loc[[3, 5, 7], [\"Height\", \"Wears glasses\"]]"
   ]
  },
  {
   "cell_type": "markdown",
   "id": "d0720fa7",
   "metadata": {
    "slideshow": {
     "slide_type": "slide"
    }
   },
   "source": [
    "# Conditionals\n",
    "- a statement that is either true or false\n",
    "  - `a == b` : true if `a` is equal to `b`\n",
    "  - `a != b` : true if `a` is not equal to `b`\n",
    "  - `a > b` : true if `a` is greater than `b`\n",
    "  - `a >= b` : true if `a` is greater than or equal to `b`\n",
    "  - `a < b` : true if `a` is less than `b`\n",
    "  - `a <= b` : true if `a` is less than or equal to `b`\n",
    "- they can be combined\n",
    "  - `a & b` : true if a and b are both true, otherwise false\n",
    "  - `a | b` : true if a or b is true, otherwise false\n",
    "- if `a` is a pandas Series, the result is a Boolean Series\n",
    "  - with a True or False result for each row\n",
    "  - which can be used by loc to select data\n",
    "- this is very flexible and powerful"
   ]
  },
  {
   "cell_type": "code",
   "execution_count": null,
   "id": "cd9d132d",
   "metadata": {
    "slideshow": {
     "slide_type": "subslide"
    }
   },
   "outputs": [],
   "source": [
    "# This returns a Boolean (true/false) Series for the statement Age is greater than 9:\n",
    "df[\"Age\"] > 9"
   ]
  },
  {
   "cell_type": "code",
   "execution_count": null,
   "id": "4773031f",
   "metadata": {
    "slideshow": {
     "slide_type": "subslide"
    }
   },
   "outputs": [],
   "source": [
    "# loc can take this as the selection, e.g. older than 9\n",
    "df.loc[df[\"Age\"] > 9]"
   ]
  },
  {
   "cell_type": "code",
   "execution_count": null,
   "id": "f06af9b3",
   "metadata": {
    "slideshow": {
     "slide_type": "subslide"
    }
   },
   "outputs": [],
   "source": [
    "# can combine conditions with & e.g. older than 9 and have blue eyes\n",
    "df.loc[(df[\"Age\"] > 9) & (df[\"Eye colour\"] == \"blue\")]"
   ]
  },
  {
   "cell_type": "code",
   "execution_count": null,
   "id": "5d4b8ee6",
   "metadata": {
    "slideshow": {
     "slide_type": "subslide"
    }
   },
   "outputs": [],
   "source": [
    "# can have multiple conditions with | e.g. younger than 7 or wears glasses\n",
    "df.loc[(df[\"Age\"] < 7) | (df[\"Wears glasses\"] == \"yes\")]"
   ]
  },
  {
   "cell_type": "markdown",
   "id": "d6f0a6c7",
   "metadata": {
    "slideshow": {
     "slide_type": "slide"
    }
   },
   "source": [
    "# Types\n",
    "\n",
    "- Default type is `Object`, aka String\n",
    "- Pandas tries to identify types like numbers, dates and booleans\n",
    "- Can also tell Pandas what type a column should be\n",
    "- Using the correct type has multiple benefits\n",
    "  - better performance (use less RAM, faster to run)\n",
    "  - more functionality (e.g. summary / plots of numerical types)"
   ]
  },
  {
   "cell_type": "code",
   "execution_count": null,
   "id": "6e5c0de5",
   "metadata": {
    "slideshow": {
     "slide_type": "subslide"
    }
   },
   "outputs": [],
   "source": [
    "# display type of each column\n",
    "df.dtypes"
   ]
  },
  {
   "cell_type": "code",
   "execution_count": null,
   "id": "97f51015",
   "metadata": {
    "slideshow": {
     "slide_type": "fragment"
    }
   },
   "outputs": [],
   "source": [
    "# display memory usage of each column\n",
    "df.memory_usage(deep=True)"
   ]
  },
  {
   "cell_type": "code",
   "execution_count": null,
   "id": "e053780b",
   "metadata": {
    "slideshow": {
     "slide_type": "fragment"
    }
   },
   "outputs": [],
   "source": [
    "# list unique values in \"Sex\" column:\n",
    "df[\"Sex\"].unique()"
   ]
  },
  {
   "cell_type": "code",
   "execution_count": null,
   "id": "4d8742e1",
   "metadata": {
    "slideshow": {
     "slide_type": "fragment"
    }
   },
   "outputs": [],
   "source": [
    "# see how much RAM is used to store this column as strings\n",
    "df[\"Sex\"].memory_usage(deep=True)"
   ]
  },
  {
   "cell_type": "code",
   "execution_count": null,
   "id": "6b01dc2b",
   "metadata": {
    "slideshow": {
     "slide_type": "subslide"
    }
   },
   "outputs": [],
   "source": [
    "# convert to a category type\n",
    "df[\"Sex\"] = df[\"Sex\"].astype(\"category\")"
   ]
  },
  {
   "cell_type": "code",
   "execution_count": null,
   "id": "75d732f2",
   "metadata": {
    "slideshow": {
     "slide_type": "fragment"
    }
   },
   "outputs": [],
   "source": [
    "# list unique values in column:\n",
    "df[\"Sex\"].unique()"
   ]
  },
  {
   "cell_type": "code",
   "execution_count": null,
   "id": "fbb40e13",
   "metadata": {
    "slideshow": {
     "slide_type": "fragment"
    }
   },
   "outputs": [],
   "source": [
    "# check RAM usage now\n",
    "df[\"Sex\"].memory_usage(deep=True)"
   ]
  },
  {
   "cell_type": "code",
   "execution_count": null,
   "id": "d51e253f",
   "metadata": {
    "slideshow": {
     "slide_type": "fragment"
    }
   },
   "outputs": [],
   "source": [
    "# do the same for eye colour\n",
    "df[\"Eye colour\"] = df[\"Eye colour\"].astype(\"category\")"
   ]
  },
  {
   "cell_type": "code",
   "execution_count": null,
   "id": "5634ba5c",
   "metadata": {
    "slideshow": {
     "slide_type": "subslide"
    }
   },
   "outputs": [],
   "source": [
    "# list unique values to confirm Wears glasses is really a boolean:\n",
    "df[\"Wears glasses\"].unique()"
   ]
  },
  {
   "cell_type": "code",
   "execution_count": null,
   "id": "296e818e",
   "metadata": {
    "slideshow": {
     "slide_type": "fragment"
    }
   },
   "outputs": [],
   "source": [
    "# see how much RAM is used to store this column as strings\n",
    "df[\"Wears glasses\"].memory_usage(deep=True)"
   ]
  },
  {
   "cell_type": "code",
   "execution_count": null,
   "id": "5f1be5f7",
   "metadata": {
    "slideshow": {
     "slide_type": "fragment"
    }
   },
   "outputs": [],
   "source": [
    "# convert \"yes\" to True, \"no\" to False\n",
    "df[\"Wears glasses\"] = df[\"Wears glasses\"].map({\"yes\": True, \"no\": False})"
   ]
  },
  {
   "cell_type": "code",
   "execution_count": null,
   "id": "c80d6fd7",
   "metadata": {
    "slideshow": {
     "slide_type": "fragment"
    }
   },
   "outputs": [],
   "source": [
    "# list unique values to confirm Wears glasses is really a boolean:\n",
    "df[\"Wears glasses\"].unique()"
   ]
  },
  {
   "cell_type": "code",
   "execution_count": null,
   "id": "325e91c9",
   "metadata": {
    "slideshow": {
     "slide_type": "fragment"
    }
   },
   "outputs": [],
   "source": [
    "# see how much RAM is used to store this column as booleans\n",
    "df[\"Wears glasses\"].memory_usage(deep=True)"
   ]
  },
  {
   "cell_type": "markdown",
   "id": "055f542c",
   "metadata": {
    "slideshow": {
     "slide_type": "slide"
    }
   },
   "source": [
    "# Next\n",
    "\n",
    "- [Part 3: Pandas with real data](https://ssciwr.github.io/jupyter-data-exploration/pandas-real-data.slides.html)"
   ]
  }
 ],
 "metadata": {
  "celltoolbar": "Slideshow",
  "kernelspec": {
   "display_name": "Python 3 (ipykernel)",
   "language": "python",
   "name": "python3"
  },
  "language_info": {
   "codemirror_mode": {
    "name": "ipython",
    "version": 3
   },
   "file_extension": ".py",
   "mimetype": "text/x-python",
   "name": "python",
   "nbconvert_exporter": "python",
   "pygments_lexer": "ipython3",
   "version": "3.9.7"
  }
 },
 "nbformat": 4,
 "nbformat_minor": 5
}
