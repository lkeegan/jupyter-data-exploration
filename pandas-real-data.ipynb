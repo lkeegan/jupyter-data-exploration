{
 "cells": [
  {
   "cell_type": "markdown",
   "id": "1e4bbd6c",
   "metadata": {
    "slideshow": {
     "slide_type": "slide"
    }
   },
   "source": [
    "# Data Exploration with Python and Jupyter\n",
    "\n",
    "Basic usage of the Pandas library to download a dataset,\n",
    "explore its contents, clean up missing or invalid data,\n",
    "filter the data according to different criteria,\n",
    "and plot visualizations of the data.\n",
    "\n",
    "- [Part 1: Python and Jupyter](index.html)\n",
    "- [Part 2: Pandas with toy data](pandas-toy-data.slides.html)\n",
    "- **Part 3: Pandas with real data**"
   ]
  },
  {
   "cell_type": "markdown",
   "id": "1480d7d2",
   "metadata": {
    "slideshow": {
     "slide_type": "slide"
    }
   },
   "source": [
    "# Let's download some real data\n",
    "\n",
    "For some reason, the London Fire Brigade provides a public spreadsheet of all animal rescue incidents since 2009:\n",
    "\n",
    "https://data.london.gov.uk/dataset/animal-rescue-incidents-attended-by-lfb\n",
    "\n",
    "They provide a link to the dataset in csv (comma-delimited) format"
   ]
  },
  {
   "cell_type": "code",
   "execution_count": null,
   "id": "b16c9318",
   "metadata": {
    "slideshow": {
     "slide_type": "fragment"
    }
   },
   "outputs": [],
   "source": [
    "# import the Pandas library\n",
    "\n",
    "import pandas as pd"
   ]
  },
  {
   "cell_type": "code",
   "execution_count": null,
   "id": "189a6a56",
   "metadata": {
    "slideshow": {
     "slide_type": "fragment"
    }
   },
   "outputs": [],
   "source": [
    "# download a csv file with some data and convert it to a DataFrame\n",
    "url = \"https://data.london.gov.uk/download/animal-rescue-incidents-attended-by-lfb/8a7d91c2-9aec-4bde-937a-3998f4717cd8/Animal%20Rescue%20incidents%20attended%20by%20LFB%20from%20Jan%202009.csv\"\n",
    "df = pd.read_csv(url, encoding=\"unicode_escape\")"
   ]
  },
  {
   "cell_type": "markdown",
   "id": "ea21e7b6",
   "metadata": {
    "slideshow": {
     "slide_type": "slide"
    }
   },
   "source": [
    "# Sidenote\n",
    "\n",
    "You may be wondering what this `encoding='unicode_escape'` parameter is for, and how did I know it needed to be there?\n",
    "\n",
    "Well, I first tried `pd.read_csv(url)` and got this:\n",
    "\n",
    "```\n",
    "---------------------------------------------------------------------------\n",
    "UnicodeDecodeError                        Traceback (most recent call last)\n",
    "/tmp/ipykernel_514329/874975015.py in <module>\n",
    "----> 1 pd.read_csv(url)\n",
    "\n",
    "~/.pyenv/versions/3.9.4/lib/python3.9/site-packages/pandas/io/parsers.py in read_csv(filepath_or_buffer, sep, delimiter, header, names, index_col, usecols, squeeze, prefix, mangle_dupe_cols, dtype, engine, converters, true_values, false_values, skipinitialspace, skiprows, skipfooter, nrows, na_values, keep_default_na, na_filter, verbose, skip_blank_lines, parse_dates, infer_datetime_format, keep_date_col, date_parser, dayfirst, cache_dates, iterator, chunksize, compression, thousands, decimal, lineterminator, quotechar, quoting, doublequote, escapechar, comment, encoding, dialect, error_bad_lines, warn_bad_lines, delim_whitespace, low_memory, memory_map, float_precision, storage_options)\n",
    "    608     kwds.update(kwds_defaults)\n",
    "    609 \n",
    "--> 610     return _read(filepath_or_buffer, kwds)\n",
    "    611 \n",
    "    612 \n",
    "\n",
    "~/.pyenv/versions/3.9.4/lib/python3.9/site-packages/pandas/io/parsers.py in _read(filepath_or_buffer, kwds)\n",
    "    460 \n",
    "    461     # Create the parser.\n",
    "--> 462     parser = TextFileReader(filepath_or_buffer, **kwds)\n",
    "    463 \n",
    "    464     if chunksize or iterator:\n",
    "\n",
    "~/.pyenv/versions/3.9.4/lib/python3.9/site-packages/pandas/io/parsers.py in __init__(self, f, engine, **kwds)\n",
    "    817             self.options[\"has_index_names\"] = kwds[\"has_index_names\"]\n",
    "    818 \n",
    "--> 819         self._engine = self._make_engine(self.engine)\n",
    "    820 \n",
    "    821     def close(self):\n",
    "\n",
    "~/.pyenv/versions/3.9.4/lib/python3.9/site-packages/pandas/io/parsers.py in _make_engine(self, engine)\n",
    "   1048             )\n",
    "   1049         # error: Too many arguments for \"ParserBase\"\n",
    "-> 1050         return mapping[engine](self.f, **self.options)  # type: ignore[call-arg]\n",
    "   1051 \n",
    "   1052     def _failover_to_python(self):\n",
    "\n",
    "~/.pyenv/versions/3.9.4/lib/python3.9/site-packages/pandas/io/parsers.py in __init__(self, src, **kwds)\n",
    "   1896 \n",
    "   1897         try:\n",
    "-> 1898             self._reader = parsers.TextReader(self.handles.handle, **kwds)\n",
    "   1899         except Exception:\n",
    "   1900             self.handles.close()\n",
    "\n",
    "pandas/_libs/parsers.pyx in pandas._libs.parsers.TextReader.__cinit__()\n",
    "\n",
    "pandas/_libs/parsers.pyx in pandas._libs.parsers.TextReader._get_header()\n",
    "\n",
    "pandas/_libs/parsers.pyx in pandas._libs.parsers.TextReader._tokenize_rows()\n",
    "\n",
    "pandas/_libs/parsers.pyx in pandas._libs.parsers.raise_parser_error()\n",
    "\n",
    "UnicodeDecodeError: 'utf-8' codec can't decode byte 0xa3 in position 105: invalid start byte\n",
    "```"
   ]
  },
  {
   "cell_type": "markdown",
   "id": "5a8ff4f2",
   "metadata": {
    "slideshow": {
     "slide_type": "slide"
    }
   },
   "source": [
    "## Suggested workflow / philosophy\n",
    "\n",
    "- if in doubt, try!\n",
    "- if you get an error, copy & paste the last bit into google\n",
    "  - don't be intimidated by the long and apparently nonsensical error messages\n",
    "  - almost certainly someone else has had this exact problem\n",
    "  - almost certainly the solution is waiting for you\n",
    "- look for a stackoverflow answer with many up-votes\n",
    "  - ignore the green tick, this just means the person asking the question liked the answer\n",
    "  - typically an answer with many up-votes is a better option\n",
    "  - more recent answers can also be better: sometimes a library has changed since an older answer was written\n",
    "\n",
    "(For anyone who wasn't already doing this, that may be the most useful thing in this course)"
   ]
  },
  {
   "cell_type": "markdown",
   "id": "b51a0c7d",
   "metadata": {
    "slideshow": {
     "slide_type": "slide"
    }
   },
   "source": [
    "# Display the DataFrame"
   ]
  },
  {
   "cell_type": "code",
   "execution_count": null,
   "id": "ce8adc78",
   "metadata": {
    "slideshow": {
     "slide_type": "fragment"
    }
   },
   "outputs": [],
   "source": [
    "df"
   ]
  },
  {
   "cell_type": "markdown",
   "id": "0d21d31d",
   "metadata": {
    "slideshow": {
     "slide_type": "slide"
    }
   },
   "source": [
    "# Display the data type of each column"
   ]
  },
  {
   "cell_type": "code",
   "execution_count": null,
   "id": "e83ba53f",
   "metadata": {
    "slideshow": {
     "slide_type": "fragment"
    }
   },
   "outputs": [],
   "source": [
    "df.dtypes"
   ]
  },
  {
   "cell_type": "markdown",
   "id": "0b5f136c",
   "metadata": {
    "slideshow": {
     "slide_type": "slide"
    }
   },
   "source": [
    "# Convert DateTimeOfCall to a date-time"
   ]
  },
  {
   "cell_type": "code",
   "execution_count": null,
   "id": "7e050a60",
   "metadata": {
    "slideshow": {
     "slide_type": "fragment"
    }
   },
   "outputs": [],
   "source": [
    "df[\"DateTimeOfCall\"].head(10)"
   ]
  },
  {
   "cell_type": "code",
   "execution_count": null,
   "id": "4cfecb82",
   "metadata": {
    "slideshow": {
     "slide_type": "fragment"
    }
   },
   "outputs": [],
   "source": [
    "df[\"DateTimeOfCall\"] = pd.to_datetime(df[\"DateTimeOfCall\"], dayfirst=True)"
   ]
  },
  {
   "cell_type": "code",
   "execution_count": null,
   "id": "2a93583f",
   "metadata": {
    "slideshow": {
     "slide_type": "fragment"
    }
   },
   "outputs": [],
   "source": [
    "df[\"DateTimeOfCall\"].head(10)"
   ]
  },
  {
   "cell_type": "markdown",
   "id": "b7626329",
   "metadata": {
    "slideshow": {
     "slide_type": "slide"
    }
   },
   "source": [
    "# Use the datetime as the index"
   ]
  },
  {
   "cell_type": "code",
   "execution_count": null,
   "id": "d983ca3c",
   "metadata": {
    "slideshow": {
     "slide_type": "fragment"
    }
   },
   "outputs": [],
   "source": [
    "df.set_index(\"DateTimeOfCall\", inplace=True)"
   ]
  },
  {
   "cell_type": "code",
   "execution_count": null,
   "id": "9d8dbd1d",
   "metadata": {
    "slideshow": {
     "slide_type": "fragment"
    }
   },
   "outputs": [],
   "source": [
    "df"
   ]
  },
  {
   "cell_type": "code",
   "execution_count": null,
   "id": "608f38cc",
   "metadata": {
    "slideshow": {
     "slide_type": "slide"
    }
   },
   "outputs": [],
   "source": [
    "# can use datetime to select rows: here is jan 2021\n",
    "df[\"2021-01-01\":\"2021-01-31\"][\"FinalDescription\"]"
   ]
  },
  {
   "cell_type": "code",
   "execution_count": null,
   "id": "9498d3b3",
   "metadata": {
    "slideshow": {
     "slide_type": "slide"
    }
   },
   "outputs": [],
   "source": [
    "import matplotlib.pyplot as plt\n",
    "\n",
    "# can resample the timeseries: sum by month\n",
    "df.resample(\"M\")[\"IncidentNumber\"].count().plot(title=\"Monthly Calls\")\n",
    "plt.show()"
   ]
  },
  {
   "cell_type": "code",
   "execution_count": null,
   "id": "a1ff1a9e",
   "metadata": {
    "slideshow": {
     "slide_type": "fragment"
    }
   },
   "outputs": [],
   "source": [
    "# or by day\n",
    "df.resample(\"d\")[\"IncidentNumber\"].count().plot(title=\"Daily Calls\")\n",
    "plt.show()"
   ]
  },
  {
   "cell_type": "markdown",
   "id": "04033db2",
   "metadata": {
    "slideshow": {
     "slide_type": "slide"
    }
   },
   "source": [
    "# Count the unique entries in each column"
   ]
  },
  {
   "cell_type": "code",
   "execution_count": null,
   "id": "bf7357b4",
   "metadata": {
    "slideshow": {
     "slide_type": "fragment"
    }
   },
   "outputs": [],
   "source": [
    "df.nunique().sort_values()"
   ]
  },
  {
   "cell_type": "code",
   "execution_count": null,
   "id": "c30c1ad6",
   "metadata": {
    "slideshow": {
     "slide_type": "slide"
    }
   },
   "outputs": [],
   "source": [
    "# this column is always the same:\n",
    "df[\"TypeOfIncident\"].unique()"
   ]
  },
  {
   "cell_type": "code",
   "execution_count": null,
   "id": "aa85510d",
   "metadata": {
    "slideshow": {
     "slide_type": "fragment"
    }
   },
   "outputs": [],
   "source": [
    "# so we can drop it from our dataframe:\n",
    "df.drop(\"TypeOfIncident\", axis=1, inplace=True)"
   ]
  },
  {
   "cell_type": "code",
   "execution_count": null,
   "id": "dd9bfa1c",
   "metadata": {
    "slideshow": {
     "slide_type": "slide"
    }
   },
   "outputs": [],
   "source": [
    "df.groupby(\"AnimalGroupParent\")[\"IncidentNumber\"].count().sort_values().plot.barh(\n",
    "    logx=True\n",
    ")\n",
    "plt.show()"
   ]
  },
  {
   "cell_type": "markdown",
   "id": "04b1f238",
   "metadata": {
    "slideshow": {
     "slide_type": "slide"
    }
   },
   "source": [
    "## Plot location of calls on a map"
   ]
  },
  {
   "cell_type": "code",
   "execution_count": null,
   "id": "a4f502b7",
   "metadata": {
    "slideshow": {
     "slide_type": "subslide"
    }
   },
   "outputs": [],
   "source": [
    "# drop missing longitude/latitude\n",
    "df2 = df.dropna(subset=[\"Longitude\", \"Latitude\"])\n",
    "# also drop zero values\n",
    "df2 = df2[df2[\"Latitude\"] != 0]\n",
    "# convert to geodataframe using geopandas\n",
    "import geopandas\n",
    "\n",
    "gdf = geopandas.GeoDataFrame(\n",
    "    df2, geometry=geopandas.points_from_xy(df2[\"Longitude\"], df2[\"Latitude\"])\n",
    ")\n",
    "# set crs to WGS84 Latitude/Longitude\n",
    "gdf = gdf.set_crs(epsg=4326)\n",
    "gdf.head()"
   ]
  },
  {
   "cell_type": "code",
   "execution_count": null,
   "id": "716cbfe9",
   "metadata": {
    "slideshow": {
     "slide_type": "subslide"
    }
   },
   "outputs": [],
   "source": [
    "f, ax = plt.subplots(figsize=(16, 16))\n",
    "# get a map of london\n",
    "import contextily as cx\n",
    "\n",
    "# london = cx.Place(\"London\", source=cx.providers.CartoDB.Positron)\n",
    "# plot london map image\n",
    "# london.plot(ax=ax)\n",
    "# transform coordinates to match london image\n",
    "gdf = gdf.to_crs(epsg=3857)\n",
    "# plot location of calls involving deer\n",
    "gdf[gdf[\"AnimalGroupParent\"] == \"Cow\"].plot(\n",
    "    ax=ax, color=\"black\", alpha=0.3, label=\"Cow\"\n",
    ")\n",
    "gdf[gdf[\"AnimalGroupParent\"] == \"Deer\"].plot(\n",
    "    ax=ax, color=\"red\", alpha=0.3, label=\"Deer\"\n",
    ")\n",
    "gdf[gdf[\"AnimalGroupParent\"] == \"Fox\"].plot(ax=ax, color=\"blue\", alpha=0.3, label=\"Fox\")\n",
    "plt.title(\"Call locations by animal\")\n",
    "plt.legend()\n",
    "plt.axis(\"off\")\n",
    "plt.show()"
   ]
  },
  {
   "cell_type": "code",
   "execution_count": null,
   "id": "2649ea67",
   "metadata": {},
   "outputs": [],
   "source": []
  }
 ],
 "metadata": {
  "celltoolbar": "Slideshow",
  "kernelspec": {
   "display_name": "Python 3 (ipykernel)",
   "language": "python",
   "name": "python3"
  },
  "language_info": {
   "codemirror_mode": {
    "name": "ipython",
    "version": 3
   },
   "file_extension": ".py",
   "mimetype": "text/x-python",
   "name": "python",
   "nbconvert_exporter": "python",
   "pygments_lexer": "ipython3",
   "version": "3.9.7"
  }
 },
 "nbformat": 4,
 "nbformat_minor": 5
}
