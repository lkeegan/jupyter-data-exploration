{
 "cells": [
  {
   "cell_type": "markdown",
   "id": "0",
   "metadata": {
    "editable": true,
    "slideshow": {
     "slide_type": "slide"
    },
    "tags": []
   },
   "source": [
    "# Data Exploration with Python and Jupyter\n",
    "\n",
    "Jupyter notebooks are a great tool for exploring and interacting with data using the Python programming language and its rich ecosystem of libraries.\n",
    "\n",
    "In this course we will cover basic usage of the Pandas library to download a dataset, explore its contents, clean up missing or invalid data, filter the data according to different criteria, and plot visualizations of the data.\n",
    "\n",
    "These slides are actually also generated from Jupyter notebooks!\n",
    "\n",
    "*Press `Spacebar` to go to the next slide (or `?` to see all navigation shortcuts)*"
   ]
  },
  {
   "cell_type": "markdown",
   "id": "1",
   "metadata": {
    "editable": true,
    "slideshow": {
     "slide_type": "subslide"
    },
    "tags": []
   },
   "source": [
    "# Preparation\n",
    "\n",
    "You will need a computer with Python, Jupyter and pandas installed.\n",
    "\n",
    "If you don't already have this, I recommend installing [Anaconda](https://www.anaconda.com/download/success) (which contains all of this and more)."
   ]
  },
  {
   "cell_type": "markdown",
   "id": "2",
   "metadata": {
    "editable": true,
    "slideshow": {
     "slide_type": "subslide"
    },
    "tags": []
   },
   "source": [
    "# During the course\n",
    "\n",
    "The course will be hands on - we'll create Jupyter notebooks together on our laptops.\n",
    "\n",
    "The notebooks I edit during the course will be automatically updated as they are edited at:\n",
    "\n",
    "- [github.com/ssciwr/jupyter-data-exploration-live](https://github.com/ssciwr/jupyter-data-exploration-live).\n",
    "\n",
    "It may be helpful to keep the above link open in a browser tab during the course."
   ]
  },
  {
   "cell_type": "markdown",
   "id": "3",
   "metadata": {
    "editable": true,
    "slideshow": {
     "slide_type": "subslide"
    },
    "tags": []
   },
   "source": [
    "# Course materials\n",
    "\n",
    "The completed notebooks can later be viewed as slides, used in an interactive colab session online, or downloaded:\n",
    "\n",
    "- Part 1: Python and Jupyter - [online slides](https://ssciwr.github.io/jupyter-data-exploration/python-jupyter-intro.html), [colab interactive notebook](https://colab.research.google.com/github/ssciwr/jupyter-data-exploration/blob/main/python-jupyter-intro.ipynb), [read-only notebook](python-jupyter-intro.ipynb)\n",
    "- Part 2: Pandas with toy data - [online slides](https://ssciwr.github.io/jupyter-data-exploration/pandas-toy-data.html), [colab interactive notebook](https://colab.research.google.com/github/ssciwr/jupyter-data-exploration/blob/main/pandas-toy-data.ipynb), [read-only notebook](pandas-toy-data.ipynb)\n",
    "- Part 3: Pandas with real data - [online slides](https://ssciwr.github.io/jupyter-data-exploration/pandas-real-data.html), [colab interactive notebook](https://colab.research.google.com/github/ssciwr/jupyter-data-exploration/blob/main/pandas-real-data.ipynb), [read-only notebook](pandas-real-data.ipynb)"
   ]
  },
  {
   "cell_type": "markdown",
   "id": "4",
   "metadata": {
    "editable": true,
    "slideshow": {
     "slide_type": "subslide"
    },
    "tags": []
   },
   "source": [
    "# Next\n",
    "\n",
    "- [Part 1: Jupyter and Python](https://ssciwr.github.io/jupyter-data-exploration/python-jupyter-intro.html)"
   ]
  }
 ],
 "metadata": {
  "celltoolbar": "Slideshow",
  "kernelspec": {
   "display_name": "Python 3 (ipykernel)",
   "language": "python",
   "name": "python3"
  },
  "language_info": {
   "codemirror_mode": {
    "name": "ipython",
    "version": 3
   },
   "file_extension": ".py",
   "mimetype": "text/x-python",
   "name": "python",
   "nbconvert_exporter": "python",
   "pygments_lexer": "ipython3",
   "version": "3.12.0"
  }
 },
 "nbformat": 4,
 "nbformat_minor": 5
}
