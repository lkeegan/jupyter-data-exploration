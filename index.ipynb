{
 "cells": [
  {
   "cell_type": "markdown",
   "id": "1e4bbd6c",
   "metadata": {
    "slideshow": {
     "slide_type": "slide"
    }
   },
   "source": [
    "# Data Exploration with Python and Jupyter\n",
    "\n",
    "Basic usage of the Pandas library to download a dataset,\n",
    "explore its contents, clean up missing or invalid data,\n",
    "filter the data according to different criteria,\n",
    "and plot visualizations of the data.\n",
    "\n",
    "- **Part 1: Python and Jupyter**\n",
    "- [Part 2: Pandas with toy data](https://ssciwr.github.io/jupyter-data-exploration/pandas-toy-data.slides.html)\n",
    "- [Part 3: Pandas with real data](https://ssciwr.github.io/jupyter-data-exploration/pandas-real-data.slides.html)\n",
    "\n",
    "*Press Spacebar or the right arrow key to go to the next slide*"
   ]
  },
  {
   "cell_type": "markdown",
   "id": "90fd5319",
   "metadata": {
    "slideshow": {
     "slide_type": "slide"
    }
   },
   "source": [
    "# Python\n",
    "is a widely used programming language with many useful libraries"
   ]
  },
  {
   "cell_type": "markdown",
   "id": "a996e3a9",
   "metadata": {
    "slideshow": {
     "slide_type": "fragment"
    }
   },
   "source": [
    "# Jupyter\n",
    "an interactive notebook style of using a programming language (aka the \"Kernel\")"
   ]
  },
  {
   "cell_type": "markdown",
   "id": "70577fd4",
   "metadata": {
    "slideshow": {
     "slide_type": "slide"
    }
   },
   "source": [
    "# Jupyter notebook: Cells\n",
    "\n",
    "Notebook is separated into cells, which can be\n",
    "- **code** cells\n",
    "  - contain Python code to be executed\n",
    "- **markdown** cells\n",
    "  - contains text in markdown format\n",
    "\n",
    "To select a cell: click on it with the mouse\n",
    "\n",
    "To run the selected cell, press `Ctrl+Enter` or click \"Cell -> Run Cells\" on the menubar"
   ]
  },
  {
   "cell_type": "code",
   "execution_count": null,
   "id": "3a4c2d2b",
   "metadata": {
    "slideshow": {
     "slide_type": "subslide"
    }
   },
   "outputs": [],
   "source": [
    "# This is a code cell: press Ctrl+Enter to execute the code in it\n",
    "#\n",
    "print(\"Hello World!\")"
   ]
  },
  {
   "cell_type": "markdown",
   "id": "3b94f2de",
   "metadata": {
    "slideshow": {
     "slide_type": "fragment"
    }
   },
   "source": [
    "### Markdown cell\n",
    "This is a markdown cell, which can contain\n",
    "- headings, lists, *formatted* **text**, [links to websites](https://ssc.iwr.uni-heidelberg.de/).\n",
    "- math in latex format: $\\int_0^\\infty \\cos(x) dx$\n",
    "- ![images can also be displayed](https://ssc.iwr.uni-heidelberg.de/sites/default/files/inline-images/logo_ssc_iwr_uni.png)"
   ]
  },
  {
   "cell_type": "markdown",
   "id": "bfcce141",
   "metadata": {
    "slideshow": {
     "slide_type": "slide"
    }
   },
   "source": [
    "# Jupyter notebook: Mode\n",
    "\n",
    "Two *modes* of interacting with the active/selected cell\n",
    "- <span style=\"color:green\">**edit**</span> mode\n",
    "  - edit the text inside the cell (green outline)\n",
    "- <span style=\"color:blue\">**command**</span> mode\n",
    "  - use keyboard shortcuts to modify the cell or run commands (blue outline)\n",
    "\n",
    "\n",
    "- To enter edit mode: double click inside a cell, or press `Enter` with a cell selected\n",
    "- To enter command mode: click to the left of a cell inside the green outline, or press `Escape`"
   ]
  },
  {
   "cell_type": "markdown",
   "id": "ee86b416",
   "metadata": {
    "slideshow": {
     "slide_type": "slide"
    }
   },
   "source": [
    "# Jupyter notebook: Commands\n",
    "\n",
    "Lots of keyboard shortcuts available. Press `Escape` to enter command mode, then the `H` key to see a list.\n",
    "\n",
    "Some commonly used shortcuts:\n",
    "- `A`: insert a cell above the current cell\n",
    "- `B`: insert a cell below the current cell\n",
    "- `M`: convert the current cell to a markdown cell\n",
    "- `Y`: convert the current cell to a code cell\n",
    "- `Shift+Enter`: run the current cell and advance to the next cell"
   ]
  },
  {
   "cell_type": "markdown",
   "id": "ad2d79a4",
   "metadata": {
    "slideshow": {
     "slide_type": "slide"
    }
   },
   "source": [
    "## Jupyter notebook: Order of Execution\n",
    "\n",
    "- you are free to execute / run cells in any order you choose\n",
    "- they can make use of and modify any objects, functions or variables that have already been created\n",
    "- however this can quickly get confusing and make reproducing results difficult!\n",
    "\n",
    "## Top to bottom\n",
    "\n",
    "- it is good practice to have a top-to-bottom flow of execution\n",
    "- i.e. write your notebook so that it can be executed in the order it is written\n",
    "- this makes it easier to understand what is going on"
   ]
  },
  {
   "cell_type": "markdown",
   "id": "85bfe558",
   "metadata": {
    "slideshow": {
     "slide_type": "slide"
    }
   },
   "source": [
    "## Useful commands when things go wrong\n",
    "\n",
    "- menubar `Kernel -> Restart` (or command mode shortcut: `0 0`)\n",
    "  - fresh start (your code is still there, but all existing objects, functions and variables are cleared)\n",
    "- menubar `Kernel -> Restart and Clear Output`\n",
    "  - as above, but additionally clears all cell outputs\n",
    "- menubar `Kernel -> Restart and Run All`\n",
    "  - as above, but additionally executes all the cells in order\n"
   ]
  },
  {
   "cell_type": "markdown",
   "id": "82d9cd01",
   "metadata": {
    "slideshow": {
     "slide_type": "slide"
    }
   },
   "source": [
    "# Python: Variables"
   ]
  },
  {
   "cell_type": "code",
   "execution_count": null,
   "id": "335467c3",
   "metadata": {
    "slideshow": {
     "slide_type": "subslide"
    }
   },
   "outputs": [],
   "source": [
    "# any lines starting with \"#\" are comments that Python ignores\n",
    "#\n",
    "# assign the number 12 to the variable \"a\":\n",
    "#\n",
    "a = 12"
   ]
  },
  {
   "cell_type": "code",
   "execution_count": null,
   "id": "7322c136",
   "metadata": {
    "slideshow": {
     "slide_type": "fragment"
    }
   },
   "outputs": [],
   "source": [
    "# any variable or object can be printed\n",
    "print(a)"
   ]
  },
  {
   "cell_type": "code",
   "execution_count": null,
   "id": "65761e85",
   "metadata": {
    "slideshow": {
     "slide_type": "fragment"
    }
   },
   "outputs": [],
   "source": [
    "# display the type of an object\n",
    "type(a)"
   ]
  },
  {
   "cell_type": "code",
   "execution_count": null,
   "id": "3edce3b8",
   "metadata": {
    "slideshow": {
     "slide_type": "subslide"
    }
   },
   "outputs": [],
   "source": [
    "# variables can be re-assigned, including to different types\n",
    "a = \"Hello!\""
   ]
  },
  {
   "cell_type": "code",
   "execution_count": null,
   "id": "588ee948",
   "metadata": {
    "slideshow": {
     "slide_type": "fragment"
    }
   },
   "outputs": [],
   "source": [
    "print(a)"
   ]
  },
  {
   "cell_type": "code",
   "execution_count": null,
   "id": "072d5a5d",
   "metadata": {
    "slideshow": {
     "slide_type": "fragment"
    }
   },
   "outputs": [],
   "source": [
    "type(a)"
   ]
  },
  {
   "cell_type": "markdown",
   "id": "1396fd65",
   "metadata": {
    "slideshow": {
     "slide_type": "slide"
    }
   },
   "source": [
    "# Python: Lists"
   ]
  },
  {
   "cell_type": "code",
   "execution_count": null,
   "id": "5c7e6270",
   "metadata": {
    "slideshow": {
     "slide_type": "subslide"
    }
   },
   "outputs": [],
   "source": [
    "# a list is an ordered container of objects (the objects don't have to have the same type)\n",
    "my_list = [1, 3, 88, -13, \"hello\"]"
   ]
  },
  {
   "cell_type": "code",
   "execution_count": null,
   "id": "337b65d8",
   "metadata": {
    "slideshow": {
     "slide_type": "fragment"
    }
   },
   "outputs": [],
   "source": [
    "print(my_list)"
   ]
  },
  {
   "cell_type": "code",
   "execution_count": null,
   "id": "b322274b",
   "metadata": {
    "slideshow": {
     "slide_type": "fragment"
    }
   },
   "outputs": [],
   "source": [
    "# can reference an item in the list by it's index: 0 is the first item\n",
    "print(my_list[0])"
   ]
  },
  {
   "cell_type": "code",
   "execution_count": null,
   "id": "9c108a19",
   "metadata": {
    "slideshow": {
     "slide_type": "fragment"
    }
   },
   "outputs": [],
   "source": [
    "# can also use negative indices: -1 is the last item, -2 the second-to-last, etc\n",
    "print(my_list[-1])"
   ]
  },
  {
   "cell_type": "code",
   "execution_count": null,
   "id": "76c3628a",
   "metadata": {
    "slideshow": {
     "slide_type": "subslide"
    }
   },
   "outputs": [],
   "source": [
    "# can use slicing to get a subset of the list: here elements with index 1 up to (but not including) index 3:\n",
    "print(my_list[1:3])"
   ]
  },
  {
   "cell_type": "code",
   "execution_count": null,
   "id": "e50b06bb",
   "metadata": {
    "slideshow": {
     "slide_type": "fragment"
    }
   },
   "outputs": [],
   "source": [
    "# can add two lists together: this concatenates them into a single long list\n",
    "print(my_list + [5, 6, 7])"
   ]
  },
  {
   "cell_type": "code",
   "execution_count": null,
   "id": "8a840405",
   "metadata": {
    "slideshow": {
     "slide_type": "fragment"
    }
   },
   "outputs": [],
   "source": [
    "# can iterate over the items in a list\n",
    "for item in my_list:\n",
    "    print(item)"
   ]
  },
  {
   "cell_type": "markdown",
   "id": "1290bd15",
   "metadata": {
    "slideshow": {
     "slide_type": "slide"
    }
   },
   "source": [
    "# Python: Dictionaries"
   ]
  },
  {
   "cell_type": "code",
   "execution_count": null,
   "id": "635bf31b",
   "metadata": {
    "slideshow": {
     "slide_type": "subslide"
    }
   },
   "outputs": [],
   "source": [
    "# a dictionary is an unordered set of key-value pairs\n",
    "my_dict = {\"name\": \"Bob\", \"age\": 6}"
   ]
  },
  {
   "cell_type": "code",
   "execution_count": null,
   "id": "464ae3a4",
   "metadata": {
    "slideshow": {
     "slide_type": "fragment"
    }
   },
   "outputs": [],
   "source": [
    "print(my_dict)"
   ]
  },
  {
   "cell_type": "code",
   "execution_count": null,
   "id": "b262961e",
   "metadata": {
    "slideshow": {
     "slide_type": "fragment"
    }
   },
   "outputs": [],
   "source": [
    "# can look up a value using its key\n",
    "print(my_dict[\"name\"])"
   ]
  },
  {
   "cell_type": "code",
   "execution_count": null,
   "id": "4a14413a",
   "metadata": {
    "slideshow": {
     "slide_type": "fragment"
    }
   },
   "outputs": [],
   "source": [
    "# can add a key-value pair to the dictionary by assinging a value to a key\n",
    "my_dict[\"sizes\"] = [1, 2, 3]"
   ]
  },
  {
   "cell_type": "code",
   "execution_count": null,
   "id": "c6b94f73",
   "metadata": {
    "slideshow": {
     "slide_type": "fragment"
    }
   },
   "outputs": [],
   "source": [
    "print(my_dict)"
   ]
  },
  {
   "cell_type": "code",
   "execution_count": null,
   "id": "67aece5f",
   "metadata": {
    "slideshow": {
     "slide_type": "subslide"
    }
   },
   "outputs": [],
   "source": [
    "# adding an existing key overwrites the old value with the new one\n",
    "my_dict[\"sizes\"] = [5, 10, 24]"
   ]
  },
  {
   "cell_type": "code",
   "execution_count": null,
   "id": "0c6f23f8",
   "metadata": {},
   "outputs": [],
   "source": [
    "print(my_dict)"
   ]
  },
  {
   "cell_type": "code",
   "execution_count": null,
   "id": "6bf0fba9",
   "metadata": {
    "slideshow": {
     "slide_type": "fragment"
    }
   },
   "outputs": [],
   "source": [
    "# can iterate over dictionary items\n",
    "for key, value in my_dict.items():\n",
    "    print(key, value)"
   ]
  },
  {
   "cell_type": "markdown",
   "id": "7174d369",
   "metadata": {
    "slideshow": {
     "slide_type": "slide"
    }
   },
   "source": [
    "# Python: Functions"
   ]
  },
  {
   "cell_type": "code",
   "execution_count": null,
   "id": "751368a5",
   "metadata": {
    "slideshow": {
     "slide_type": "slide"
    }
   },
   "outputs": [],
   "source": [
    "# functions are defined using the def keyword\n",
    "def my_function():\n",
    "    print(\"hi\")"
   ]
  },
  {
   "cell_type": "code",
   "execution_count": null,
   "id": "1c0a11c4",
   "metadata": {
    "slideshow": {
     "slide_type": "fragment"
    }
   },
   "outputs": [],
   "source": [
    "my_function()"
   ]
  },
  {
   "cell_type": "code",
   "execution_count": null,
   "id": "6075a6c4",
   "metadata": {
    "slideshow": {
     "slide_type": "fragment"
    }
   },
   "outputs": [],
   "source": [
    "# functions can take arguments\n",
    "def my_function(name):\n",
    "    print(\"hi\", name)"
   ]
  },
  {
   "cell_type": "code",
   "execution_count": null,
   "id": "3b121b05",
   "metadata": {
    "slideshow": {
     "slide_type": "fragment"
    }
   },
   "outputs": [],
   "source": [
    "my_function(\"Liam\")"
   ]
  },
  {
   "cell_type": "markdown",
   "id": "7a353944",
   "metadata": {
    "slideshow": {
     "slide_type": "slide"
    }
   },
   "source": [
    "# Python: Libraries"
   ]
  },
  {
   "cell_type": "code",
   "execution_count": null,
   "id": "b43a2a34",
   "metadata": {
    "slideshow": {
     "slide_type": "subslide"
    }
   },
   "outputs": [],
   "source": [
    "# import a library, and (optionally) give it a shorter name\n",
    "import numpy as np"
   ]
  },
  {
   "cell_type": "code",
   "execution_count": null,
   "id": "20cfb920",
   "metadata": {
    "slideshow": {
     "slide_type": "fragment"
    }
   },
   "outputs": [],
   "source": [
    "my_list = [1, 2, 3, 4, 5]\n",
    "# library functions accessed using library_name.function\n",
    "# here we create a numpy array from a list\n",
    "my_array = np.array(my_list)"
   ]
  },
  {
   "cell_type": "code",
   "execution_count": null,
   "id": "73b4df80",
   "metadata": {
    "slideshow": {
     "slide_type": "fragment"
    }
   },
   "outputs": [],
   "source": [
    "print(my_array)"
   ]
  },
  {
   "cell_type": "code",
   "execution_count": null,
   "id": "80333ae0",
   "metadata": {
    "slideshow": {
     "slide_type": "fragment"
    }
   },
   "outputs": [],
   "source": [
    "type(my_array)"
   ]
  },
  {
   "cell_type": "code",
   "execution_count": null,
   "id": "afe3ee9d",
   "metadata": {
    "slideshow": {
     "slide_type": "subslide"
    }
   },
   "outputs": [],
   "source": [
    "# apply the numpy `sqrt` function to every element of the array\n",
    "np.sqrt(my_array)"
   ]
  },
  {
   "cell_type": "code",
   "execution_count": null,
   "id": "34882191",
   "metadata": {
    "slideshow": {
     "slide_type": "fragment"
    }
   },
   "outputs": [],
   "source": [
    "# display help about this sqrt function\n",
    "np.sqrt?"
   ]
  },
  {
   "cell_type": "code",
   "execution_count": null,
   "id": "071949f0",
   "metadata": {
    "slideshow": {
     "slide_type": "fragment"
    }
   },
   "outputs": [],
   "source": [
    "np.mean(my_array)"
   ]
  },
  {
   "cell_type": "code",
   "execution_count": null,
   "id": "a3f81929",
   "metadata": {
    "slideshow": {
     "slide_type": "fragment"
    }
   },
   "outputs": [],
   "source": [
    "np.std(my_array)"
   ]
  },
  {
   "cell_type": "markdown",
   "id": "7bfab075",
   "metadata": {
    "slideshow": {
     "slide_type": "slide"
    }
   },
   "source": [
    "# Next\n",
    "\n",
    "- [Part 2: Pandas with toy data](https://ssciwr.github.io/jupyter-data-exploration/pandas-toy-data.slides.html)"
   ]
  }
 ],
 "metadata": {
  "celltoolbar": "Slideshow",
  "kernelspec": {
   "display_name": "Python 3 (ipykernel)",
   "language": "python",
   "name": "python3"
  },
  "language_info": {
   "codemirror_mode": {
    "name": "ipython",
    "version": 3
   },
   "file_extension": ".py",
   "mimetype": "text/x-python",
   "name": "python",
   "nbconvert_exporter": "python",
   "pygments_lexer": "ipython3",
   "version": "3.9.7"
  }
 },
 "nbformat": 4,
 "nbformat_minor": 5
}
